{
 "cells": [
  {
   "cell_type": "code",
   "execution_count": 26,
   "metadata": {},
   "outputs": [
    {
     "data": {
      "text/html": [
       "<div>\n",
       "<style scoped>\n",
       "    .dataframe tbody tr th:only-of-type {\n",
       "        vertical-align: middle;\n",
       "    }\n",
       "\n",
       "    .dataframe tbody tr th {\n",
       "        vertical-align: top;\n",
       "    }\n",
       "\n",
       "    .dataframe thead th {\n",
       "        text-align: right;\n",
       "    }\n",
       "</style>\n",
       "<table border=\"1\" class=\"dataframe\">\n",
       "  <thead>\n",
       "    <tr style=\"text-align: right;\">\n",
       "      <th></th>\n",
       "      <th>deceptive</th>\n",
       "      <th>hotel</th>\n",
       "      <th>polarity</th>\n",
       "      <th>source</th>\n",
       "      <th>text</th>\n",
       "    </tr>\n",
       "  </thead>\n",
       "  <tbody>\n",
       "    <tr>\n",
       "      <th>0</th>\n",
       "      <td>truthful</td>\n",
       "      <td>conrad</td>\n",
       "      <td>positive</td>\n",
       "      <td>TripAdvisor</td>\n",
       "      <td>We stayed for a one night getaway with family ...</td>\n",
       "    </tr>\n",
       "    <tr>\n",
       "      <th>1</th>\n",
       "      <td>truthful</td>\n",
       "      <td>hyatt</td>\n",
       "      <td>positive</td>\n",
       "      <td>TripAdvisor</td>\n",
       "      <td>Triple A rate with upgrade to view room was le...</td>\n",
       "    </tr>\n",
       "    <tr>\n",
       "      <th>2</th>\n",
       "      <td>truthful</td>\n",
       "      <td>hyatt</td>\n",
       "      <td>positive</td>\n",
       "      <td>TripAdvisor</td>\n",
       "      <td>This comes a little late as I'm finally catchi...</td>\n",
       "    </tr>\n",
       "    <tr>\n",
       "      <th>3</th>\n",
       "      <td>truthful</td>\n",
       "      <td>omni</td>\n",
       "      <td>positive</td>\n",
       "      <td>TripAdvisor</td>\n",
       "      <td>The Omni Chicago really delivers on all fronts...</td>\n",
       "    </tr>\n",
       "    <tr>\n",
       "      <th>4</th>\n",
       "      <td>truthful</td>\n",
       "      <td>hyatt</td>\n",
       "      <td>positive</td>\n",
       "      <td>TripAdvisor</td>\n",
       "      <td>I asked for a high floor away from the elevato...</td>\n",
       "    </tr>\n",
       "  </tbody>\n",
       "</table>\n",
       "</div>"
      ],
      "text/plain": [
       "  deceptive   hotel  polarity       source  \\\n",
       "0  truthful  conrad  positive  TripAdvisor   \n",
       "1  truthful   hyatt  positive  TripAdvisor   \n",
       "2  truthful   hyatt  positive  TripAdvisor   \n",
       "3  truthful    omni  positive  TripAdvisor   \n",
       "4  truthful   hyatt  positive  TripAdvisor   \n",
       "\n",
       "                                                text  \n",
       "0  We stayed for a one night getaway with family ...  \n",
       "1  Triple A rate with upgrade to view room was le...  \n",
       "2  This comes a little late as I'm finally catchi...  \n",
       "3  The Omni Chicago really delivers on all fronts...  \n",
       "4  I asked for a high floor away from the elevato...  "
      ]
     },
     "execution_count": 26,
     "metadata": {},
     "output_type": "execute_result"
    }
   ],
   "source": [
    "import pandas as pd\n",
    "# TOkenize the data and remove the stop words and lemmatize the data\n",
    "import nltk\n",
    "from nltk.corpus import stopwords\n",
    "from nltk.stem import WordNetLemmatizer\n",
    "import re\n",
    "\n",
    "\n",
    "# Read the data\n",
    "data = pd.read_csv('./data/deceptive-opinion.csv')\n",
    "data.head()"
   ]
  },
  {
   "cell_type": "code",
   "execution_count": 17,
   "metadata": {},
   "outputs": [
    {
     "name": "stderr",
     "output_type": "stream",
     "text": [
      "[nltk_data] Downloading package punkt to\n",
      "[nltk_data]     /home/dosisiddhesh/nltk_data...\n",
      "[nltk_data]   Package punkt is already up-to-date!\n",
      "[nltk_data] Downloading package stopwords to\n",
      "[nltk_data]     /home/dosisiddhesh/nltk_data...\n",
      "[nltk_data]   Package stopwords is already up-to-date!\n",
      "[nltk_data] Downloading package wordnet to\n",
      "[nltk_data]     /home/dosisiddhesh/nltk_data...\n",
      "[nltk_data]   Package wordnet is already up-to-date!\n"
     ]
    },
    {
     "data": {
      "text/plain": [
       "True"
      ]
     },
     "execution_count": 17,
     "metadata": {},
     "output_type": "execute_result"
    }
   ],
   "source": [
    "nltk.download('punkt')\n",
    "nltk.download('stopwords')\n",
    "nltk.download('wordnet')"
   ]
  },
  {
   "cell_type": "markdown",
   "metadata": {},
   "source": [
    "# Tokenize the data \n",
    "\n",
    "1. split the data to get the words\n",
    "2. remove the stop words\n",
    "3. remove the punctuation\n",
    "4. remove the numbers\n",
    "5. lammatize the words (preferring lemmatization over stemming as it gives the root word)\n",
    "\n"
   ]
  },
  {
   "cell_type": "code",
   "execution_count": 27,
   "metadata": {},
   "outputs": [],
   "source": [
    "lemmatizer = WordNetLemmatizer() # lemmatizing the words\n",
    "def apply_tokenization(text):\n",
    "\n",
    "    text = text.lower() # converting the text to lower case\n",
    "\n",
    "    words = nltk.word_tokenize(text)   # splitting the text into words\n",
    "\n",
    "    stop_words = set(stopwords.words('english')) # getting the stop words in english\n",
    "\n",
    "    tokens = [word for word in words if word.isalpha()] # removing the punctuations from the text or getting only alpha-words\n",
    "\n",
    "    non_stop_words = [word for word in tokens if not word in stop_words] # removing the stop words from the text \n",
    "\n",
    "    lemmatized_words = [lemmatizer.lemmatize(word) for word in non_stop_words] # lemmatizing the words\n",
    "\n",
    "    return \" \".join(lemmatized_words) # joining the words to form a sentence\n",
    "\n",
    "\n",
    "data['tokenized_data'] = data['text'].apply(apply_tokenization) # applying the function to the text column\n"
   ]
  },
  {
   "cell_type": "code",
   "execution_count": 29,
   "metadata": {},
   "outputs": [
    {
     "data": {
      "text/html": [
       "<div>\n",
       "<style scoped>\n",
       "    .dataframe tbody tr th:only-of-type {\n",
       "        vertical-align: middle;\n",
       "    }\n",
       "\n",
       "    .dataframe tbody tr th {\n",
       "        vertical-align: top;\n",
       "    }\n",
       "\n",
       "    .dataframe thead th {\n",
       "        text-align: right;\n",
       "    }\n",
       "</style>\n",
       "<table border=\"1\" class=\"dataframe\">\n",
       "  <thead>\n",
       "    <tr style=\"text-align: right;\">\n",
       "      <th></th>\n",
       "      <th>deceptive</th>\n",
       "      <th>hotel</th>\n",
       "      <th>polarity</th>\n",
       "      <th>source</th>\n",
       "      <th>text</th>\n",
       "      <th>tokenized_data</th>\n",
       "    </tr>\n",
       "  </thead>\n",
       "  <tbody>\n",
       "    <tr>\n",
       "      <th>0</th>\n",
       "      <td>truthful</td>\n",
       "      <td>conrad</td>\n",
       "      <td>positive</td>\n",
       "      <td>TripAdvisor</td>\n",
       "      <td>We stayed for a one night getaway with family ...</td>\n",
       "      <td>We stayed one night getaway family thursday Tr...</td>\n",
       "    </tr>\n",
       "    <tr>\n",
       "      <th>1</th>\n",
       "      <td>truthful</td>\n",
       "      <td>hyatt</td>\n",
       "      <td>positive</td>\n",
       "      <td>TripAdvisor</td>\n",
       "      <td>Triple A rate with upgrade to view room was le...</td>\n",
       "      <td>Triple A rate upgrade view room le also includ...</td>\n",
       "    </tr>\n",
       "    <tr>\n",
       "      <th>2</th>\n",
       "      <td>truthful</td>\n",
       "      <td>hyatt</td>\n",
       "      <td>positive</td>\n",
       "      <td>TripAdvisor</td>\n",
       "      <td>This comes a little late as I'm finally catchi...</td>\n",
       "      <td>This come little late I finally catching revie...</td>\n",
       "    </tr>\n",
       "    <tr>\n",
       "      <th>3</th>\n",
       "      <td>truthful</td>\n",
       "      <td>omni</td>\n",
       "      <td>positive</td>\n",
       "      <td>TripAdvisor</td>\n",
       "      <td>The Omni Chicago really delivers on all fronts...</td>\n",
       "      <td>The Omni Chicago really delivers front spaciou...</td>\n",
       "    </tr>\n",
       "    <tr>\n",
       "      <th>4</th>\n",
       "      <td>truthful</td>\n",
       "      <td>hyatt</td>\n",
       "      <td>positive</td>\n",
       "      <td>TripAdvisor</td>\n",
       "      <td>I asked for a high floor away from the elevato...</td>\n",
       "      <td>I asked high floor away elevator I got The roo...</td>\n",
       "    </tr>\n",
       "  </tbody>\n",
       "</table>\n",
       "</div>"
      ],
      "text/plain": [
       "  deceptive   hotel  polarity       source  \\\n",
       "0  truthful  conrad  positive  TripAdvisor   \n",
       "1  truthful   hyatt  positive  TripAdvisor   \n",
       "2  truthful   hyatt  positive  TripAdvisor   \n",
       "3  truthful    omni  positive  TripAdvisor   \n",
       "4  truthful   hyatt  positive  TripAdvisor   \n",
       "\n",
       "                                                text  \\\n",
       "0  We stayed for a one night getaway with family ...   \n",
       "1  Triple A rate with upgrade to view room was le...   \n",
       "2  This comes a little late as I'm finally catchi...   \n",
       "3  The Omni Chicago really delivers on all fronts...   \n",
       "4  I asked for a high floor away from the elevato...   \n",
       "\n",
       "                                      tokenized_data  \n",
       "0  We stayed one night getaway family thursday Tr...  \n",
       "1  Triple A rate upgrade view room le also includ...  \n",
       "2  This come little late I finally catching revie...  \n",
       "3  The Omni Chicago really delivers front spaciou...  \n",
       "4  I asked high floor away elevator I got The roo...  "
      ]
     },
     "execution_count": 29,
     "metadata": {},
     "output_type": "execute_result"
    }
   ],
   "source": [
    "data.head()"
   ]
  },
  {
   "cell_type": "code",
   "execution_count": 33,
   "metadata": {},
   "outputs": [
    {
     "name": "stdout",
     "output_type": "stream",
     "text": [
      "Collecting gensim\n",
      "  Downloading gensim-4.3.2-cp311-cp311-manylinux_2_17_x86_64.manylinux2014_x86_64.whl (26.7 MB)\n",
      "\u001b[2K     \u001b[90m━━━━━━━━━━━━━━━━━━━━━━━━━━━━━━━━━━━━━━━━\u001b[0m \u001b[32m26.7/26.7 MB\u001b[0m \u001b[31m24.0 MB/s\u001b[0m eta \u001b[36m0:00:00\u001b[0m00:01\u001b[0m00:01\u001b[0m\n",
      "\u001b[?25hRequirement already satisfied: numpy>=1.18.5 in /home/dosisiddhesh/miniconda3/lib/python3.11/site-packages (from gensim) (1.25.2)\n",
      "Requirement already satisfied: scipy>=1.7.0 in /home/dosisiddhesh/miniconda3/lib/python3.11/site-packages (from gensim) (1.11.2)\n",
      "Collecting smart-open>=1.8.1 (from gensim)\n",
      "  Downloading smart_open-6.4.0-py3-none-any.whl (57 kB)\n",
      "\u001b[2K     \u001b[90m━━━━━━━━━━━━━━━━━━━━━━━━━━━━━━━━━━━━━━━━\u001b[0m \u001b[32m57.0/57.0 kB\u001b[0m \u001b[31m2.1 MB/s\u001b[0m eta \u001b[36m0:00:00\u001b[0m\n",
      "\u001b[?25hInstalling collected packages: smart-open, gensim\n",
      "Successfully installed gensim-4.3.2 smart-open-6.4.0\n"
     ]
    }
   ],
   "source": [
    "!pip install gensim"
   ]
  },
  {
   "cell_type": "code",
   "execution_count": 74,
   "metadata": {},
   "outputs": [
    {
     "name": "stdout",
     "output_type": "stream",
     "text": [
      "Vocab size 9601\n"
     ]
    }
   ],
   "source": [
    "# Now we have the tokenized data in the tokenized_data column\n",
    "\n",
    "# create embeddings for the data using the word2vec model from gensim\n",
    "\n",
    "from gensim.models import Word2Vec\n",
    "import numpy as np\n",
    "\n",
    "# create a list of sentences from the tokenized data\n",
    "sentences = [nltk.word_tokenize(sentence) for sentence in data['tokenized_data']]\n",
    "# create the word2vec model\n",
    "model = Word2Vec(sentences, min_count=1, vector_size=100, sg=0)\n",
    "# get the vocabulary of the model\n",
    "words = model.wv.key_to_index.keys()\n",
    "\n",
    "# save the model\n",
    "model.save('word2vec.model')\n",
    "\n",
    "print(\"Vocab size\", len(words))\n",
    "\n",
    "\n",
    "\n"
   ]
  },
  {
   "cell_type": "code",
   "execution_count": 124,
   "metadata": {},
   "outputs": [
    {
     "name": "stdout",
     "output_type": "stream",
     "text": [
      "(1280,) (1280,)\n",
      "(320,) (320,)\n"
     ]
    }
   ],
   "source": []
  },
  {
   "cell_type": "code",
   "execution_count": 133,
   "metadata": {},
   "outputs": [
    {
     "data": {
      "text/plain": [
       "[100, 100, 100, 100, 100]"
      ]
     },
     "execution_count": 133,
     "metadata": {},
     "output_type": "execute_result"
    }
   ],
   "source": [
    "# get the embedding for the sentence\n",
    "\n",
    "def get_embedding(sentence):\n",
    "    # get the tokens from the sentence\n",
    "    tokens = nltk.word_tokenize(sentence)\n",
    "    # get the embedding for each word in the sentence\n",
    "    embeddings = [model.wv[word] for word in tokens]\n",
    "    # get the mean of the embeddings\n",
    "    mean_embedding = np.mean(embeddings, axis=0)\n",
    "    return mean_embedding\n",
    "\n",
    "sample_sentences = data['tokenized_data'][:5]\n",
    "sample_embeddings = [get_embedding(sentence) for sentence in sample_sentences]\n",
    "[len(sample) for sample in sample_embeddings]\n",
    "\n",
    "\n"
   ]
  },
  {
   "cell_type": "code",
   "execution_count": 136,
   "metadata": {},
   "outputs": [],
   "source": [
    "data['text_embedding'][:] = data['tokenized_data'].apply(get_embedding)"
   ]
  },
  {
   "cell_type": "code",
   "execution_count": 137,
   "metadata": {},
   "outputs": [
    {
     "data": {
      "text/plain": [
       "array(['truthful', 'deceptive'], dtype=object)"
      ]
     },
     "execution_count": 137,
     "metadata": {},
     "output_type": "execute_result"
    }
   ],
   "source": [
    "data['deceptive'].unique()"
   ]
  },
  {
   "cell_type": "code",
   "execution_count": 150,
   "metadata": {},
   "outputs": [],
   "source": [
    "data['deceptive']   = data['deceptive'].map({'truthful': 0, 'deceptive': 1})\n"
   ]
  },
  {
   "cell_type": "code",
   "execution_count": null,
   "metadata": {},
   "outputs": [],
   "source": []
  },
  {
   "cell_type": "code",
   "execution_count": 151,
   "metadata": {},
   "outputs": [
    {
     "data": {
      "text/html": [
       "<div>\n",
       "<style scoped>\n",
       "    .dataframe tbody tr th:only-of-type {\n",
       "        vertical-align: middle;\n",
       "    }\n",
       "\n",
       "    .dataframe tbody tr th {\n",
       "        vertical-align: top;\n",
       "    }\n",
       "\n",
       "    .dataframe thead th {\n",
       "        text-align: right;\n",
       "    }\n",
       "</style>\n",
       "<table border=\"1\" class=\"dataframe\">\n",
       "  <thead>\n",
       "    <tr style=\"text-align: right;\">\n",
       "      <th></th>\n",
       "      <th>deceptive</th>\n",
       "      <th>hotel</th>\n",
       "      <th>polarity</th>\n",
       "      <th>source</th>\n",
       "      <th>text</th>\n",
       "      <th>tokenized_data</th>\n",
       "      <th>text_embedding</th>\n",
       "    </tr>\n",
       "  </thead>\n",
       "  <tbody>\n",
       "    <tr>\n",
       "      <th>0</th>\n",
       "      <td>0</td>\n",
       "      <td>conrad</td>\n",
       "      <td>positive</td>\n",
       "      <td>TripAdvisor</td>\n",
       "      <td>We stayed for a one night getaway with family ...</td>\n",
       "      <td>We stayed one night getaway family thursday Tr...</td>\n",
       "      <td>[-0.25228962, 0.32827875, 0.16013923, -0.03176...</td>\n",
       "    </tr>\n",
       "    <tr>\n",
       "      <th>1</th>\n",
       "      <td>0</td>\n",
       "      <td>hyatt</td>\n",
       "      <td>positive</td>\n",
       "      <td>TripAdvisor</td>\n",
       "      <td>Triple A rate with upgrade to view room was le...</td>\n",
       "      <td>Triple A rate upgrade view room le also includ...</td>\n",
       "      <td>[-0.3095798, 0.27282536, 0.0984986, -0.0279076...</td>\n",
       "    </tr>\n",
       "    <tr>\n",
       "      <th>2</th>\n",
       "      <td>0</td>\n",
       "      <td>hyatt</td>\n",
       "      <td>positive</td>\n",
       "      <td>TripAdvisor</td>\n",
       "      <td>This comes a little late as I'm finally catchi...</td>\n",
       "      <td>This come little late I finally catching revie...</td>\n",
       "      <td>[-0.24866305, 0.42117742, 0.23038754, -0.06015...</td>\n",
       "    </tr>\n",
       "    <tr>\n",
       "      <th>3</th>\n",
       "      <td>0</td>\n",
       "      <td>omni</td>\n",
       "      <td>positive</td>\n",
       "      <td>TripAdvisor</td>\n",
       "      <td>The Omni Chicago really delivers on all fronts...</td>\n",
       "      <td>The Omni Chicago really delivers front spaciou...</td>\n",
       "      <td>[-0.29247844, 0.3350744, 0.14200926, -0.009875...</td>\n",
       "    </tr>\n",
       "    <tr>\n",
       "      <th>4</th>\n",
       "      <td>0</td>\n",
       "      <td>hyatt</td>\n",
       "      <td>positive</td>\n",
       "      <td>TripAdvisor</td>\n",
       "      <td>I asked for a high floor away from the elevato...</td>\n",
       "      <td>I asked high floor away elevator I got The roo...</td>\n",
       "      <td>[-0.3409508, 0.44184422, 0.21863651, -0.040022...</td>\n",
       "    </tr>\n",
       "  </tbody>\n",
       "</table>\n",
       "</div>"
      ],
      "text/plain": [
       "   deceptive   hotel  polarity       source  \\\n",
       "0          0  conrad  positive  TripAdvisor   \n",
       "1          0   hyatt  positive  TripAdvisor   \n",
       "2          0   hyatt  positive  TripAdvisor   \n",
       "3          0    omni  positive  TripAdvisor   \n",
       "4          0   hyatt  positive  TripAdvisor   \n",
       "\n",
       "                                                text  \\\n",
       "0  We stayed for a one night getaway with family ...   \n",
       "1  Triple A rate with upgrade to view room was le...   \n",
       "2  This comes a little late as I'm finally catchi...   \n",
       "3  The Omni Chicago really delivers on all fronts...   \n",
       "4  I asked for a high floor away from the elevato...   \n",
       "\n",
       "                                      tokenized_data  \\\n",
       "0  We stayed one night getaway family thursday Tr...   \n",
       "1  Triple A rate upgrade view room le also includ...   \n",
       "2  This come little late I finally catching revie...   \n",
       "3  The Omni Chicago really delivers front spaciou...   \n",
       "4  I asked high floor away elevator I got The roo...   \n",
       "\n",
       "                                      text_embedding  \n",
       "0  [-0.25228962, 0.32827875, 0.16013923, -0.03176...  \n",
       "1  [-0.3095798, 0.27282536, 0.0984986, -0.0279076...  \n",
       "2  [-0.24866305, 0.42117742, 0.23038754, -0.06015...  \n",
       "3  [-0.29247844, 0.3350744, 0.14200926, -0.009875...  \n",
       "4  [-0.3409508, 0.44184422, 0.21863651, -0.040022...  "
      ]
     },
     "execution_count": 151,
     "metadata": {},
     "output_type": "execute_result"
    }
   ],
   "source": [
    "data.head()"
   ]
  },
  {
   "cell_type": "code",
   "execution_count": 152,
   "metadata": {},
   "outputs": [
    {
     "data": {
      "text/plain": [
       "deceptive\n",
       "0    800\n",
       "1    800\n",
       "Name: count, dtype: int64"
      ]
     },
     "execution_count": 152,
     "metadata": {},
     "output_type": "execute_result"
    }
   ],
   "source": [
    "data['deceptive'].value_counts()"
   ]
  },
  {
   "cell_type": "code",
   "execution_count": 153,
   "metadata": {},
   "outputs": [
    {
     "data": {
      "text/plain": [
       "((1280, 7), (320, 7))"
      ]
     },
     "execution_count": 153,
     "metadata": {},
     "output_type": "execute_result"
    }
   ],
   "source": [
    "# split the data into train and test\n",
    "from sklearn.model_selection import train_test_split\n",
    "train, test = train_test_split(data, test_size=0.2, random_state=42)\n",
    "\n",
    "train.shape, test.shape"
   ]
  },
  {
   "cell_type": "code",
   "execution_count": 154,
   "metadata": {},
   "outputs": [
    {
     "data": {
      "text/plain": [
       "((1280, 100), (1280,), (320, 100), (320,))"
      ]
     },
     "execution_count": 154,
     "metadata": {},
     "output_type": "execute_result"
    }
   ],
   "source": [
    "# get the X_train, y_train, X_test, y_test\n",
    "X_train = np.array(train['text_embedding'].tolist())\n",
    "y_train = np.array(train['deceptive'].tolist())\n",
    "\n",
    "X_test = np.array(test['text_embedding'].tolist())\n",
    "y_test = np.array(test['deceptive'].tolist())\n",
    "\n",
    "X_train.shape, y_train.shape, X_test.shape, y_test.shape"
   ]
  },
  {
   "cell_type": "code",
   "execution_count": 149,
   "metadata": {},
   "outputs": [
    {
     "data": {
      "text/plain": [
       "array([-0.23251876,  0.34558403,  0.17939286, -0.05452656,  0.01092047,\n",
       "       -0.46671936,  0.08802488,  0.8613286 , -0.63835007, -0.11656233,\n",
       "       -0.19329281, -0.2469087 , -0.04060498,  0.2510431 ,  0.08089521,\n",
       "       -0.4478726 ,  0.05753947, -0.3807462 , -0.5150138 , -0.87865   ,\n",
       "        0.3053848 , -0.1496235 ,  0.37376338, -0.13702801,  0.02585615,\n",
       "       -0.36312893, -0.24858196, -0.21091212, -0.21071927,  0.10305212,\n",
       "        0.40479097,  0.23771653,  0.15597565,  0.007838  ,  0.01057314,\n",
       "        0.48726305,  0.31075245, -0.3516186 , -0.23763035, -0.8284232 ,\n",
       "        0.03637373, -0.5755979 , -0.04678076, -0.04407656, -0.02198782,\n",
       "       -0.22541533, -0.33454275,  0.07067322,  0.05653695,  0.13745788,\n",
       "        0.25094846, -0.22943646, -0.04505318, -0.15943721, -0.25864252,\n",
       "        0.07345174,  0.10310505,  0.05026377, -0.21927182,  0.09214215,\n",
       "        0.01260713,  0.08696251,  0.05088932, -0.04490311, -0.5331158 ,\n",
       "        0.18002804,  0.22233163,  0.06039051, -0.6549212 ,  0.62093854,\n",
       "       -0.13019785,  0.06617651,  0.29248998, -0.00801948,  0.2679537 ,\n",
       "       -0.00709952,  0.09151134,  0.03914281, -0.48829836,  0.2876529 ,\n",
       "        0.02316922,  0.03316303, -0.3405772 ,  0.35023928, -0.33413523,\n",
       "       -0.12918404, -0.0684155 ,  0.45279762,  0.40384653,  0.18452895,\n",
       "        0.4408385 ,  0.33173496,  0.05803446, -0.03763042,  0.63854706,\n",
       "        0.14083064,  0.24626984, -0.58195424,  0.16139638, -0.49590185],\n",
       "      dtype=float32)"
      ]
     },
     "execution_count": 149,
     "metadata": {},
     "output_type": "execute_result"
    }
   ],
   "source": [
    "X_test[0]"
   ]
  },
  {
   "cell_type": "code",
   "execution_count": 155,
   "metadata": {},
   "outputs": [
    {
     "data": {
      "text/plain": [
       "1"
      ]
     },
     "execution_count": 155,
     "metadata": {},
     "output_type": "execute_result"
    }
   ],
   "source": [
    "y_test[0]"
   ]
  },
  {
   "cell_type": "markdown",
   "metadata": {},
   "source": [
    "# creating the model"
   ]
  },
  {
   "cell_type": "code",
   "execution_count": 167,
   "metadata": {},
   "outputs": [],
   "source": [
    "def get_scores(y, y_pred):\n",
    "    from sklearn.metrics import accuracy_score, precision_score, recall_score, f1_score\n",
    "    print(\"Accuracy: \", accuracy_score(y, y_pred))\n",
    "    print(\"Precision: \", precision_score(y, y_pred))\n",
    "    print(\"Recall: \", recall_score(y, y_pred))\n",
    "    print(\"F1: \", f1_score(y, y_pred))"
   ]
  },
  {
   "cell_type": "code",
   "execution_count": 168,
   "metadata": {},
   "outputs": [],
   "source": [
    "# ref: https://scikit-learn.org/stable/modules/generated/sklearn.metrics.ConfusionMatrixDisplay.html\n",
    "\n",
    "# plot the confusion matrix\n",
    "\n",
    "def plot_cm(y_test, y_pred):\n",
    "    import matplotlib.pyplot as plt\n",
    "    from sklearn.metrics import confusion_matrix, ConfusionMatrixDisplay\n",
    "    cm = confusion_matrix(y_test, y_pred)\n",
    "    disp = ConfusionMatrixDisplay(confusion_matrix=cm, display_labels=lr_model.classes_)\n",
    "    disp.plot()\n",
    "    plt.xlabel('Predicted')\n",
    "    plt.ylabel('Truth')\n",
    "    plt.show()\n",
    "    plt.show()"
   ]
  },
  {
   "cell_type": "markdown",
   "metadata": {},
   "source": [
    "## 1. Logistic Regression"
   ]
  },
  {
   "cell_type": "code",
   "execution_count": 170,
   "metadata": {},
   "outputs": [
    {
     "name": "stdout",
     "output_type": "stream",
     "text": [
      "----------- Train Scores ------------\n",
      "Accuracy:  0.69609375\n",
      "Precision:  0.7072\n",
      "Recall:  0.6820987654320988\n",
      "F1:  0.6944226237234878\n",
      "----------- Test Scores ------------\n",
      "Accuracy:  0.7\n",
      "Precision:  0.6647058823529411\n",
      "Recall:  0.743421052631579\n",
      "F1:  0.701863354037267\n"
     ]
    },
    {
     "data": {
      "image/png": "[encoded data removed]",
      "text/plain": [
       "<Figure size 640x480 with 2 Axes>"
      ]
     },
     "metadata": {},
     "output_type": "display_data"
    }
   ],
   "source": [
    "# create the model\n",
    "\n",
    "from sklearn.linear_model import LogisticRegression\n",
    "\n",
    "lr_model = LogisticRegression()\n",
    "\n",
    "lr_model.fit(X_train, y_train)\n",
    "\n",
    "# get the predictions\n",
    "\n",
    "y_pred = lr_model.predict(X_test)\n",
    "\n",
    "# get the scores\n",
    "print(\"----------- Train Scores ------------\")\n",
    "get_scores(y_train, lr_model.predict(X_train))\n",
    "print(\"----------- Test Scores ------------\")\n",
    "get_scores(y_test, y_pred)\n",
    "\n",
    "\n",
    "plot_cm(y_test, y_pred) "
   ]
  },
  {
   "cell_type": "markdown",
   "metadata": {},
   "source": [
    "## 2. SVM"
   ]
  },
  {
   "cell_type": "code",
   "execution_count": 180,
   "metadata": {},
   "outputs": [
    {
     "name": "stdout",
     "output_type": "stream",
     "text": [
      "----------- Train Scores ------------\n",
      "Accuracy:  0.93046875\n",
      "Precision:  0.9333333333333333\n",
      "Recall:  0.9290123456790124\n",
      "F1:  0.9311678267594741\n",
      "----------- Test Scores ------------\n",
      "Accuracy:  0.6625\n",
      "Precision:  0.6134020618556701\n",
      "Recall:  0.7828947368421053\n",
      "F1:  0.6878612716763006\n"
     ]
    },
    {
     "data": {
      "image/png": "[encoded data removed]",
      "text/plain": [
       "<Figure size 640x480 with 2 Axes>"
      ]
     },
     "metadata": {},
     "output_type": "display_data"
    }
   ],
   "source": [
    "# use the svm model\n",
    "\n",
    "from sklearn.svm import SVC\n",
    "svm_model = SVC(gamma=200)\n",
    "svm_model.fit(X_train, y_train)\n",
    "\n",
    "# get the predictions\n",
    "y_pred = svm_model.predict(X_test)\n",
    "\n",
    "# get the scores\n",
    "print(\"----------- Train Scores ------------\")\n",
    "get_scores(y_train, svm_model.predict(X_train))\n",
    "print(\"----------- Test Scores ------------\")\n",
    "get_scores(y_test, y_pred)\n",
    "\n",
    "plot_cm(y_test, y_pred)\n"
   ]
  },
  {
   "cell_type": "markdown",
   "metadata": {},
   "source": [
    "> The above model been overfitted !!!\n"
   ]
  },
  {
   "cell_type": "code",
   "execution_count": 181,
   "metadata": {},
   "outputs": [
    {
     "name": "stdout",
     "output_type": "stream",
     "text": [
      "----------- Train Scores ------------\n",
      "Accuracy:  0.72734375\n",
      "Precision:  0.7195301027900147\n",
      "Recall:  0.7561728395061729\n",
      "F1:  0.7373965387509406\n",
      "----------- Test Scores ------------\n",
      "Accuracy:  0.709375\n",
      "Precision:  0.656084656084656\n",
      "Recall:  0.8157894736842105\n",
      "F1:  0.7272727272727273\n"
     ]
    },
    {
     "data": {
      "image/png": "[encoded data removed]",
      "text/plain": [
       "<Figure size 640x480 with 2 Axes>"
      ]
     },
     "metadata": {},
     "output_type": "display_data"
    }
   ],
   "source": [
    "# use the svm model\n",
    "\n",
    "from sklearn.svm import SVC\n",
    "svm_model = SVC(gamma=10)\n",
    "svm_model.fit(X_train, y_train)\n",
    "\n",
    "# get the predictions\n",
    "y_pred = svm_model.predict(X_test)\n",
    "\n",
    "# get the scores\n",
    "print(\"----------- Train Scores ------------\")\n",
    "get_scores(y_train, svm_model.predict(X_train))\n",
    "print(\"----------- Test Scores ------------\")\n",
    "get_scores(y_test, y_pred)\n",
    "\n",
    "plot_cm(y_test, y_pred)\n"
   ]
  },
  {
   "cell_type": "code",
   "execution_count": null,
   "metadata": {},
   "outputs": [],
   "source": []
  },
  {
   "cell_type": "markdown",
   "metadata": {},
   "source": [
    "## 3. Random Forest Classifier"
   ]
  },
  {
   "cell_type": "code",
   "execution_count": 186,
   "metadata": {},
   "outputs": [
    {
     "name": "stdout",
     "output_type": "stream",
     "text": [
      "----------- Train Scores ------------\n",
      "Accuracy:  1.0\n",
      "Precision:  1.0\n",
      "Recall:  1.0\n",
      "F1:  1.0\n",
      "----------- Test Scores ------------\n",
      "Accuracy:  0.68125\n",
      "Precision:  0.631578947368421\n",
      "Recall:  0.7894736842105263\n",
      "F1:  0.7017543859649122\n"
     ]
    },
    {
     "data": {
      "image/png": "[encoded data removed]",
      "text/plain": [
       "<Figure size 640x480 with 2 Axes>"
      ]
     },
     "metadata": {},
     "output_type": "display_data"
    }
   ],
   "source": [
    "from sklearn.ensemble import RandomForestClassifier\n",
    "\n",
    "rf_model = RandomForestClassifier(n_estimators=100, max_depth=20 )\n",
    "rf_model.fit(X_train, y_train)\n",
    "\n",
    "# get the predictions\n",
    "y_pred = rf_model.predict(X_test)\n",
    "\n",
    "# get the scores\n",
    "print(\"----------- Train Scores ------------\")\n",
    "get_scores(y_train, rf_model.predict(X_train))\n",
    "print(\"----------- Test Scores ------------\")\n",
    "get_scores(y_test, y_pred)\n",
    "\n",
    "plot_cm(y_test, y_pred)"
   ]
  },
  {
   "cell_type": "markdown",
   "metadata": {},
   "source": [
    "> we can clear see the random forest is overfitted"
   ]
  },
  {
   "cell_type": "markdown",
   "metadata": {},
   "source": [
    "## 4. KNN"
   ]
  },
  {
   "cell_type": "code",
   "execution_count": 187,
   "metadata": {},
   "outputs": [
    {
     "name": "stdout",
     "output_type": "stream",
     "text": [
      "----------- Train Scores ------------\n",
      "Accuracy:  0.77421875\n",
      "Precision:  0.7651403249630724\n",
      "Recall:  0.7993827160493827\n",
      "F1:  0.7818867924528302\n",
      "----------- Test Scores ------------\n",
      "Accuracy:  0.659375\n",
      "Precision:  0.6228571428571429\n",
      "Recall:  0.7171052631578947\n",
      "F1:  0.6666666666666667\n"
     ]
    },
    {
     "data": {
      "image/png": "[encoded data removed]",
      "text/plain": [
       "<Figure size 640x480 with 2 Axes>"
      ]
     },
     "metadata": {},
     "output_type": "display_data"
    }
   ],
   "source": [
    "from sklearn.neighbors import KNeighborsClassifier\n",
    "\n",
    "knn_model = KNeighborsClassifier(n_neighbors=5)\n",
    "knn_model.fit(X_train, y_train)\n",
    "\n",
    "# get the predictions\n",
    "y_pred = knn_model.predict(X_test)\n",
    "\n",
    "# get the scores\n",
    "print(\"----------- Train Scores ------------\")\n",
    "get_scores(y_train, knn_model.predict(X_train))\n",
    "print(\"----------- Test Scores ------------\")\n",
    "get_scores(y_test, y_pred)\n",
    "\n",
    "plot_cm(y_test, y_pred)\n"
   ]
  },
  {
   "cell_type": "code",
   "execution_count": null,
   "metadata": {},
   "outputs": [],
   "source": []
  },
  {
   "cell_type": "markdown",
   "metadata": {},
   "source": [
    "# tf-idf"
   ]
  },
  {
   "cell_type": "markdown",
   "metadata": {},
   "source": [
    "data.head()"
   ]
  },
  {
   "cell_type": "code",
   "execution_count": 189,
   "metadata": {},
   "outputs": [
    {
     "data": {
      "text/html": [
       "<div>\n",
       "<style scoped>\n",
       "    .dataframe tbody tr th:only-of-type {\n",
       "        vertical-align: middle;\n",
       "    }\n",
       "\n",
       "    .dataframe tbody tr th {\n",
       "        vertical-align: top;\n",
       "    }\n",
       "\n",
       "    .dataframe thead th {\n",
       "        text-align: right;\n",
       "    }\n",
       "</style>\n",
       "<table border=\"1\" class=\"dataframe\">\n",
       "  <thead>\n",
       "    <tr style=\"text-align: right;\">\n",
       "      <th></th>\n",
       "      <th>deceptive</th>\n",
       "      <th>hotel</th>\n",
       "      <th>polarity</th>\n",
       "      <th>source</th>\n",
       "      <th>text</th>\n",
       "      <th>tokenized_data</th>\n",
       "      <th>text_embedding</th>\n",
       "    </tr>\n",
       "  </thead>\n",
       "  <tbody>\n",
       "    <tr>\n",
       "      <th>0</th>\n",
       "      <td>0</td>\n",
       "      <td>conrad</td>\n",
       "      <td>positive</td>\n",
       "      <td>TripAdvisor</td>\n",
       "      <td>We stayed for a one night getaway with family ...</td>\n",
       "      <td>We stayed one night getaway family thursday Tr...</td>\n",
       "      <td>[-0.25228962, 0.32827875, 0.16013923, -0.03176...</td>\n",
       "    </tr>\n",
       "    <tr>\n",
       "      <th>1</th>\n",
       "      <td>0</td>\n",
       "      <td>hyatt</td>\n",
       "      <td>positive</td>\n",
       "      <td>TripAdvisor</td>\n",
       "      <td>Triple A rate with upgrade to view room was le...</td>\n",
       "      <td>Triple A rate upgrade view room le also includ...</td>\n",
       "      <td>[-0.3095798, 0.27282536, 0.0984986, -0.0279076...</td>\n",
       "    </tr>\n",
       "    <tr>\n",
       "      <th>2</th>\n",
       "      <td>0</td>\n",
       "      <td>hyatt</td>\n",
       "      <td>positive</td>\n",
       "      <td>TripAdvisor</td>\n",
       "      <td>This comes a little late as I'm finally catchi...</td>\n",
       "      <td>This come little late I finally catching revie...</td>\n",
       "      <td>[-0.24866305, 0.42117742, 0.23038754, -0.06015...</td>\n",
       "    </tr>\n",
       "    <tr>\n",
       "      <th>3</th>\n",
       "      <td>0</td>\n",
       "      <td>omni</td>\n",
       "      <td>positive</td>\n",
       "      <td>TripAdvisor</td>\n",
       "      <td>The Omni Chicago really delivers on all fronts...</td>\n",
       "      <td>The Omni Chicago really delivers front spaciou...</td>\n",
       "      <td>[-0.29247844, 0.3350744, 0.14200926, -0.009875...</td>\n",
       "    </tr>\n",
       "    <tr>\n",
       "      <th>4</th>\n",
       "      <td>0</td>\n",
       "      <td>hyatt</td>\n",
       "      <td>positive</td>\n",
       "      <td>TripAdvisor</td>\n",
       "      <td>I asked for a high floor away from the elevato...</td>\n",
       "      <td>I asked high floor away elevator I got The roo...</td>\n",
       "      <td>[-0.3409508, 0.44184422, 0.21863651, -0.040022...</td>\n",
       "    </tr>\n",
       "  </tbody>\n",
       "</table>\n",
       "</div>"
      ],
      "text/plain": [
       "   deceptive   hotel  polarity       source  \\\n",
       "0          0  conrad  positive  TripAdvisor   \n",
       "1          0   hyatt  positive  TripAdvisor   \n",
       "2          0   hyatt  positive  TripAdvisor   \n",
       "3          0    omni  positive  TripAdvisor   \n",
       "4          0   hyatt  positive  TripAdvisor   \n",
       "\n",
       "                                                text  \\\n",
       "0  We stayed for a one night getaway with family ...   \n",
       "1  Triple A rate with upgrade to view room was le...   \n",
       "2  This comes a little late as I'm finally catchi...   \n",
       "3  The Omni Chicago really delivers on all fronts...   \n",
       "4  I asked for a high floor away from the elevato...   \n",
       "\n",
       "                                      tokenized_data  \\\n",
       "0  We stayed one night getaway family thursday Tr...   \n",
       "1  Triple A rate upgrade view room le also includ...   \n",
       "2  This come little late I finally catching revie...   \n",
       "3  The Omni Chicago really delivers front spaciou...   \n",
       "4  I asked high floor away elevator I got The roo...   \n",
       "\n",
       "                                      text_embedding  \n",
       "0  [-0.25228962, 0.32827875, 0.16013923, -0.03176...  \n",
       "1  [-0.3095798, 0.27282536, 0.0984986, -0.0279076...  \n",
       "2  [-0.24866305, 0.42117742, 0.23038754, -0.06015...  \n",
       "3  [-0.29247844, 0.3350744, 0.14200926, -0.009875...  \n",
       "4  [-0.3409508, 0.44184422, 0.21863651, -0.040022...  "
      ]
     },
     "execution_count": 189,
     "metadata": {},
     "output_type": "execute_result"
    }
   ],
   "source": [
    "data.head()"
   ]
  },
  {
   "cell_type": "code",
   "execution_count": 213,
   "metadata": {},
   "outputs": [
    {
     "name": "stdout",
     "output_type": "stream",
     "text": [
      "Vocab size 8296\n"
     ]
    }
   ],
   "source": [
    "from sklearn.feature_extraction.text import TfidfVectorizer\n",
    "import pickle\n",
    "# create the tfidf model\n",
    "tfidf = TfidfVectorizer()\n",
    "x= data['tokenized_data']\n",
    "# fit the model on the tokenized data\n",
    "tfidf.fit(x)\n",
    "# get the vocabulary of the model\n",
    "embeddings = tfidf.fit_transform(data['tokenized_data'])\n",
    "words = tfidf.get_feature_names_out()\n",
    "print(\"Vocab size\", len(words))\n",
    "# save the model\n",
    "pickle.dump(tfidf, open('./model/tfidf.model', 'wb'))"
   ]
  },
  {
   "cell_type": "code",
   "execution_count": 214,
   "metadata": {},
   "outputs": [
    {
     "data": {
      "text/plain": [
       "(1600, 8296)"
      ]
     },
     "execution_count": 214,
     "metadata": {},
     "output_type": "execute_result"
    }
   ],
   "source": [
    "embeddings.shape"
   ]
  },
  {
   "cell_type": "code",
   "execution_count": 219,
   "metadata": {},
   "outputs": [
    {
     "data": {
      "text/plain": [
       "array([[0.18394488, 0.        , 0.        , ..., 0.        , 0.        ,\n",
       "        0.        ]])"
      ]
     },
     "execution_count": 219,
     "metadata": {},
     "output_type": "execute_result"
    }
   ],
   "source": [
    "embeddings[0].toarray()"
   ]
  },
  {
   "cell_type": "code",
   "execution_count": null,
   "metadata": {},
   "outputs": [],
   "source": [
    "# copy the embeddings to the data frame['text_embedding']\n",
    "\n",
    "for i in range(embeddings.shape[0]):\n",
    "    data['text_embedding'][i] = embeddings[i].toarray()[0]\n",
    "    "
   ]
  },
  {
   "cell_type": "code",
   "execution_count": 223,
   "metadata": {},
   "outputs": [
    {
     "data": {
      "text/html": [
       "<div>\n",
       "<style scoped>\n",
       "    .dataframe tbody tr th:only-of-type {\n",
       "        vertical-align: middle;\n",
       "    }\n",
       "\n",
       "    .dataframe tbody tr th {\n",
       "        vertical-align: top;\n",
       "    }\n",
       "\n",
       "    .dataframe thead th {\n",
       "        text-align: right;\n",
       "    }\n",
       "</style>\n",
       "<table border=\"1\" class=\"dataframe\">\n",
       "  <thead>\n",
       "    <tr style=\"text-align: right;\">\n",
       "      <th></th>\n",
       "      <th>deceptive</th>\n",
       "      <th>hotel</th>\n",
       "      <th>polarity</th>\n",
       "      <th>source</th>\n",
       "      <th>text</th>\n",
       "      <th>tokenized_data</th>\n",
       "      <th>text_embedding</th>\n",
       "    </tr>\n",
       "  </thead>\n",
       "  <tbody>\n",
       "    <tr>\n",
       "      <th>0</th>\n",
       "      <td>0</td>\n",
       "      <td>conrad</td>\n",
       "      <td>positive</td>\n",
       "      <td>TripAdvisor</td>\n",
       "      <td>We stayed for a one night getaway with family ...</td>\n",
       "      <td>We stayed one night getaway family thursday Tr...</td>\n",
       "      <td>[0.1839448830021706, 0.0, 0.0, 0.0, 0.0, 0.0, ...</td>\n",
       "    </tr>\n",
       "    <tr>\n",
       "      <th>1</th>\n",
       "      <td>0</td>\n",
       "      <td>hyatt</td>\n",
       "      <td>positive</td>\n",
       "      <td>TripAdvisor</td>\n",
       "      <td>Triple A rate with upgrade to view room was le...</td>\n",
       "      <td>Triple A rate upgrade view room le also includ...</td>\n",
       "      <td>[0.0, 0.0, 0.0, 0.0, 0.0, 0.0, 0.0, 0.0, 0.0, ...</td>\n",
       "    </tr>\n",
       "    <tr>\n",
       "      <th>2</th>\n",
       "      <td>0</td>\n",
       "      <td>hyatt</td>\n",
       "      <td>positive</td>\n",
       "      <td>TripAdvisor</td>\n",
       "      <td>This comes a little late as I'm finally catchi...</td>\n",
       "      <td>This come little late I finally catching revie...</td>\n",
       "      <td>[0.0, 0.0, 0.0, 0.0, 0.0, 0.0, 0.0771380358939...</td>\n",
       "    </tr>\n",
       "    <tr>\n",
       "      <th>3</th>\n",
       "      <td>0</td>\n",
       "      <td>omni</td>\n",
       "      <td>positive</td>\n",
       "      <td>TripAdvisor</td>\n",
       "      <td>The Omni Chicago really delivers on all fronts...</td>\n",
       "      <td>The Omni Chicago really delivers front spaciou...</td>\n",
       "      <td>[0.0, 0.0, 0.0, 0.0, 0.0, 0.0, 0.0, 0.0, 0.0, ...</td>\n",
       "    </tr>\n",
       "    <tr>\n",
       "      <th>4</th>\n",
       "      <td>0</td>\n",
       "      <td>hyatt</td>\n",
       "      <td>positive</td>\n",
       "      <td>TripAdvisor</td>\n",
       "      <td>I asked for a high floor away from the elevato...</td>\n",
       "      <td>I asked high floor away elevator I got The roo...</td>\n",
       "      <td>[0.0, 0.0, 0.0, 0.0, 0.0, 0.0, 0.0, 0.0, 0.0, ...</td>\n",
       "    </tr>\n",
       "    <tr>\n",
       "      <th>...</th>\n",
       "      <td>...</td>\n",
       "      <td>...</td>\n",
       "      <td>...</td>\n",
       "      <td>...</td>\n",
       "      <td>...</td>\n",
       "      <td>...</td>\n",
       "      <td>...</td>\n",
       "    </tr>\n",
       "    <tr>\n",
       "      <th>1595</th>\n",
       "      <td>1</td>\n",
       "      <td>intercontinental</td>\n",
       "      <td>negative</td>\n",
       "      <td>MTurk</td>\n",
       "      <td>Problems started when I booked the InterContin...</td>\n",
       "      <td>Problems started I booked InterContinental Chi...</td>\n",
       "      <td>[0.0, 0.0, 0.0, 0.0, 0.0, 0.0, 0.0, 0.0, 0.0, ...</td>\n",
       "    </tr>\n",
       "    <tr>\n",
       "      <th>1596</th>\n",
       "      <td>1</td>\n",
       "      <td>amalfi</td>\n",
       "      <td>negative</td>\n",
       "      <td>MTurk</td>\n",
       "      <td>The Amalfi Hotel has a beautiful website and i...</td>\n",
       "      <td>The Amalfi Hotel beautiful website interior de...</td>\n",
       "      <td>[0.0, 0.0, 0.0, 0.0, 0.0, 0.0, 0.0, 0.0, 0.0, ...</td>\n",
       "    </tr>\n",
       "    <tr>\n",
       "      <th>1597</th>\n",
       "      <td>1</td>\n",
       "      <td>intercontinental</td>\n",
       "      <td>negative</td>\n",
       "      <td>MTurk</td>\n",
       "      <td>The Intercontinental Chicago Magnificent Mile ...</td>\n",
       "      <td>The Intercontinental Chicago Magnificent Mile ...</td>\n",
       "      <td>[0.0, 0.0, 0.0, 0.0, 0.0, 0.0, 0.0, 0.0, 0.0, ...</td>\n",
       "    </tr>\n",
       "    <tr>\n",
       "      <th>1598</th>\n",
       "      <td>1</td>\n",
       "      <td>palmer</td>\n",
       "      <td>negative</td>\n",
       "      <td>MTurk</td>\n",
       "      <td>The Palmer House Hilton, while it looks good i...</td>\n",
       "      <td>The Palmer House Hilton look good picture outs...</td>\n",
       "      <td>[0.0, 0.0, 0.0, 0.0, 0.0, 0.0, 0.0, 0.0, 0.0, ...</td>\n",
       "    </tr>\n",
       "    <tr>\n",
       "      <th>1599</th>\n",
       "      <td>1</td>\n",
       "      <td>amalfi</td>\n",
       "      <td>negative</td>\n",
       "      <td>MTurk</td>\n",
       "      <td>As a former Chicagoan, I'm appalled at the Ama...</td>\n",
       "      <td>As former Chicagoan I appalled Amalfi Hotel Ch...</td>\n",
       "      <td>[0.0, 0.0, 0.0, 0.0, 0.0, 0.0, 0.0, 0.0, 0.0, ...</td>\n",
       "    </tr>\n",
       "  </tbody>\n",
       "</table>\n",
       "<p>1600 rows × 7 columns</p>\n",
       "</div>"
      ],
      "text/plain": [
       "      deceptive             hotel  polarity       source  \\\n",
       "0             0            conrad  positive  TripAdvisor   \n",
       "1             0             hyatt  positive  TripAdvisor   \n",
       "2             0             hyatt  positive  TripAdvisor   \n",
       "3             0              omni  positive  TripAdvisor   \n",
       "4             0             hyatt  positive  TripAdvisor   \n",
       "...         ...               ...       ...          ...   \n",
       "1595          1  intercontinental  negative        MTurk   \n",
       "1596          1            amalfi  negative        MTurk   \n",
       "1597          1  intercontinental  negative        MTurk   \n",
       "1598          1            palmer  negative        MTurk   \n",
       "1599          1            amalfi  negative        MTurk   \n",
       "\n",
       "                                                   text  \\\n",
       "0     We stayed for a one night getaway with family ...   \n",
       "1     Triple A rate with upgrade to view room was le...   \n",
       "2     This comes a little late as I'm finally catchi...   \n",
       "3     The Omni Chicago really delivers on all fronts...   \n",
       "4     I asked for a high floor away from the elevato...   \n",
       "...                                                 ...   \n",
       "1595  Problems started when I booked the InterContin...   \n",
       "1596  The Amalfi Hotel has a beautiful website and i...   \n",
       "1597  The Intercontinental Chicago Magnificent Mile ...   \n",
       "1598  The Palmer House Hilton, while it looks good i...   \n",
       "1599  As a former Chicagoan, I'm appalled at the Ama...   \n",
       "\n",
       "                                         tokenized_data  \\\n",
       "0     We stayed one night getaway family thursday Tr...   \n",
       "1     Triple A rate upgrade view room le also includ...   \n",
       "2     This come little late I finally catching revie...   \n",
       "3     The Omni Chicago really delivers front spaciou...   \n",
       "4     I asked high floor away elevator I got The roo...   \n",
       "...                                                 ...   \n",
       "1595  Problems started I booked InterContinental Chi...   \n",
       "1596  The Amalfi Hotel beautiful website interior de...   \n",
       "1597  The Intercontinental Chicago Magnificent Mile ...   \n",
       "1598  The Palmer House Hilton look good picture outs...   \n",
       "1599  As former Chicagoan I appalled Amalfi Hotel Ch...   \n",
       "\n",
       "                                         text_embedding  \n",
       "0     [0.1839448830021706, 0.0, 0.0, 0.0, 0.0, 0.0, ...  \n",
       "1     [0.0, 0.0, 0.0, 0.0, 0.0, 0.0, 0.0, 0.0, 0.0, ...  \n",
       "2     [0.0, 0.0, 0.0, 0.0, 0.0, 0.0, 0.0771380358939...  \n",
       "3     [0.0, 0.0, 0.0, 0.0, 0.0, 0.0, 0.0, 0.0, 0.0, ...  \n",
       "4     [0.0, 0.0, 0.0, 0.0, 0.0, 0.0, 0.0, 0.0, 0.0, ...  \n",
       "...                                                 ...  \n",
       "1595  [0.0, 0.0, 0.0, 0.0, 0.0, 0.0, 0.0, 0.0, 0.0, ...  \n",
       "1596  [0.0, 0.0, 0.0, 0.0, 0.0, 0.0, 0.0, 0.0, 0.0, ...  \n",
       "1597  [0.0, 0.0, 0.0, 0.0, 0.0, 0.0, 0.0, 0.0, 0.0, ...  \n",
       "1598  [0.0, 0.0, 0.0, 0.0, 0.0, 0.0, 0.0, 0.0, 0.0, ...  \n",
       "1599  [0.0, 0.0, 0.0, 0.0, 0.0, 0.0, 0.0, 0.0, 0.0, ...  \n",
       "\n",
       "[1600 rows x 7 columns]"
      ]
     },
     "execution_count": 223,
     "metadata": {},
     "output_type": "execute_result"
    }
   ],
   "source": [
    "data"
   ]
  },
  {
   "cell_type": "code",
   "execution_count": null,
   "metadata": {},
   "outputs": [],
   "source": []
  }
 ],
 "metadata": {
  "kernelspec": {
   "display_name": "base",
   "language": "python",
   "name": "python3"
  },
  "language_info": {
   "codemirror_mode": {
    "name": "ipython",
    "version": 3
   },
   "file_extension": ".py",
   "mimetype": "text/x-python",
   "name": "python",
   "nbconvert_exporter": "python",
   "pygments_lexer": "ipython3",
   "version": "3.11.4"
  },
  "orig_nbformat": 4
 },
 "nbformat": 4,
 "nbformat_minor": 2
}
